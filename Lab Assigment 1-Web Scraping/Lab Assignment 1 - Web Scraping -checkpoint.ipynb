{
 "cells": [
  {
   "cell_type": "code",
   "execution_count": 11,
   "id": "2e174225-5979-4002-940a-04d6caf8c466",
   "metadata": {},
   "outputs": [
    {
     "name": "stdout",
     "output_type": "stream",
     "text": [
      "Requirement already satisfied: selenium in c:\\users\\thane\\anaconda3\\lib\\site-packages (4.29.0)\n",
      "Requirement already satisfied: urllib3<3,>=1.26 in c:\\users\\thane\\anaconda3\\lib\\site-packages (from urllib3[socks]<3,>=1.26->selenium) (2.0.7)\n",
      "Requirement already satisfied: trio~=0.17 in c:\\users\\thane\\anaconda3\\lib\\site-packages (from selenium) (0.29.0)\n",
      "Requirement already satisfied: trio-websocket~=0.9 in c:\\users\\thane\\anaconda3\\lib\\site-packages (from selenium) (0.12.2)\n",
      "Requirement already satisfied: certifi>=2021.10.8 in c:\\users\\thane\\anaconda3\\lib\\site-packages (from selenium) (2024.2.2)\n",
      "Requirement already satisfied: typing_extensions~=4.9 in c:\\users\\thane\\anaconda3\\lib\\site-packages (from selenium) (4.9.0)\n",
      "Requirement already satisfied: websocket-client~=1.8 in c:\\users\\thane\\anaconda3\\lib\\site-packages (from selenium) (1.8.0)\n",
      "Requirement already satisfied: attrs>=23.2.0 in c:\\users\\thane\\anaconda3\\lib\\site-packages (from trio~=0.17->selenium) (25.2.0)\n",
      "Requirement already satisfied: sortedcontainers in c:\\users\\thane\\anaconda3\\lib\\site-packages (from trio~=0.17->selenium) (2.4.0)\n",
      "Requirement already satisfied: idna in c:\\users\\thane\\anaconda3\\lib\\site-packages (from trio~=0.17->selenium) (3.4)\n",
      "Requirement already satisfied: outcome in c:\\users\\thane\\anaconda3\\lib\\site-packages (from trio~=0.17->selenium) (1.3.0.post0)\n",
      "Requirement already satisfied: sniffio>=1.3.0 in c:\\users\\thane\\anaconda3\\lib\\site-packages (from trio~=0.17->selenium) (1.3.0)\n",
      "Requirement already satisfied: cffi>=1.14 in c:\\users\\thane\\anaconda3\\lib\\site-packages (from trio~=0.17->selenium) (1.16.0)\n",
      "Requirement already satisfied: wsproto>=0.14 in c:\\users\\thane\\anaconda3\\lib\\site-packages (from trio-websocket~=0.9->selenium) (1.2.0)\n",
      "Requirement already satisfied: pysocks!=1.5.7,<2.0,>=1.5.6 in c:\\users\\thane\\anaconda3\\lib\\site-packages (from urllib3[socks]<3,>=1.26->selenium) (1.7.1)\n",
      "Requirement already satisfied: pycparser in c:\\users\\thane\\anaconda3\\lib\\site-packages (from cffi>=1.14->trio~=0.17->selenium) (2.21)\n",
      "Requirement already satisfied: h11<1,>=0.9.0 in c:\\users\\thane\\anaconda3\\lib\\site-packages (from wsproto>=0.14->trio-websocket~=0.9->selenium) (0.14.0)\n"
     ]
    }
   ],
   "source": [
    "!pip install selenium\n",
    "\n"
   ]
  },
  {
   "cell_type": "code",
   "execution_count": 16,
   "id": "eb8ba1a6-9b81-4a9e-80f2-0b1850a7910c",
   "metadata": {},
   "outputs": [],
   "source": [
    "# Import necessary modules\n",
    "from selenium import webdriver  # Controls the Chrome browser\n",
    "from selenium.webdriver.common.by import By  # Helps locate elements on a webpage\n",
    "import time  # Used to add delays in execution\n",
    "import json  # Handles JSON data parsing\n",
    "import csv  # Provides functionality for writing CSV files\n",
    "import re  # Provides support for regular expressions"
   ]
  },
  {
   "cell_type": "code",
   "execution_count": 17,
   "id": "867b93a0-5670-4b6b-a0dc-635f20024702",
   "metadata": {},
   "outputs": [],
   "source": [
    "# Lazada product URL\n",
    "url = \"https://www.lazada.com.my/products/2025-xiaomi-outdoor-smart-watch-men-201-screen-3at-waterproof-watches-bluetooth-call-ai-voice-sport-smartwatch-for-android-xiaomi-ios-i4402417295-s24720636985.html\""
   ]
  },
  {
   "cell_type": "code",
   "execution_count": 18,
   "id": "2f71781e-c304-4547-8aa3-e2d344ca7b60",
   "metadata": {},
   "outputs": [],
   "source": [
    "# Use a regular expression to extract the item ID from the URL\n",
    "match = re.search(r\"i(\\d+)-s\", url)\n",
    "item_id = match.group(1)  # Extract the matched item ID"
   ]
  },
  {
   "cell_type": "code",
   "execution_count": 19,
   "id": "4189a423-4946-47b2-9e04-60f38fd500f6",
   "metadata": {},
   "outputs": [],
   "source": [
    "# Configure Selenium WebDriver options\n",
    "options = webdriver.ChromeOptions()\n",
    "options.add_argument(\"start-maximized\")  # Open Chrome in maximized mode\n",
    "options.add_argument(\"--disable-blink-features=AutomationControlled\")  # Prevent detection by websites\n"
   ]
  },
  {
   "cell_type": "code",
   "execution_count": 20,
   "id": "192bdc36-5d63-4e28-bd10-14e245942d4c",
   "metadata": {},
   "outputs": [],
   "source": [
    "# Initialize the Selenium WebDriver (Chrome)\n",
    "driver = webdriver.Chrome(options=options)"
   ]
  },
  {
   "cell_type": "code",
   "execution_count": 22,
   "id": "4aec467a-6cc7-4cef-97fa-fbc0f7e5352e",
   "metadata": {},
   "outputs": [],
   "source": [
    "# Construct the Lazada review API URL \n",
    "base_url = f'https://my.lazada.com.my/pdp/review/getReviewList?itemId={item_id}&pageSize=10&pageNo='\n"
   ]
  },
  {
   "cell_type": "code",
   "execution_count": 23,
   "id": "6ac07ccc-c313-4015-817d-ec38c2e46c45",
   "metadata": {},
   "outputs": [],
   "source": [
    "# Open the first review page to allow manual CAPTCHA solving\n",
    "driver.get(base_url + \"1\")"
   ]
  },
  {
   "cell_type": "code",
   "execution_count": 24,
   "id": "3a677cd9-5bc2-4c7f-afef-0737a9737c62",
   "metadata": {},
   "outputs": [
    {
     "name": "stdin",
     "output_type": "stream",
     "text": [
      "Solve the CAPTCHA in the opened browser, then press Enter to continue... enter\n"
     ]
    },
    {
     "data": {
      "text/plain": [
       "'enter'"
      ]
     },
     "execution_count": 24,
     "metadata": {},
     "output_type": "execute_result"
    }
   ],
   "source": [
    "# 🛑 Pause execution and wait for the user to solve the CAPTCHA manually\n",
    "input(\"Solve the CAPTCHA in the opened browser, then press Enter to continue...\")\n"
   ]
  },
  {
   "cell_type": "code",
   "execution_count": 25,
   "id": "edf4e77a-42f4-40ea-9f4e-329a9cd16b8c",
   "metadata": {},
   "outputs": [
    {
     "name": "stdout",
     "output_type": "stream",
     "text": [
      "Fetching: https://my.lazada.com.my/pdp/review/getReviewList?itemId=4402417295&pageSize=10&pageNo=1\n"
     ]
    },
    {
     "ename": "JSONDecodeError",
     "evalue": "Expecting value: line 1 column 1 (char 0)",
     "output_type": "error",
     "traceback": [
      "\u001b[1;31m---------------------------------------------------------------------------\u001b[0m",
      "\u001b[1;31mJSONDecodeError\u001b[0m                           Traceback (most recent call last)",
      "Cell \u001b[1;32mIn[25], line 15\u001b[0m\n\u001b[0;32m     13\u001b[0m \u001b[38;5;66;03m# Extract the page content (which is in JSON format)\u001b[39;00m\n\u001b[0;32m     14\u001b[0m page_source \u001b[38;5;241m=\u001b[39m driver\u001b[38;5;241m.\u001b[39mfind_element(By\u001b[38;5;241m.\u001b[39mTAG_NAME, \u001b[38;5;124m\"\u001b[39m\u001b[38;5;124mbody\u001b[39m\u001b[38;5;124m\"\u001b[39m)\u001b[38;5;241m.\u001b[39mtext\n\u001b[1;32m---> 15\u001b[0m data \u001b[38;5;241m=\u001b[39m json\u001b[38;5;241m.\u001b[39mloads(page_source)  \u001b[38;5;66;03m# Parse the JSON response\u001b[39;00m\n\u001b[0;32m     17\u001b[0m \u001b[38;5;66;03m# Extract reviews from \"items\", ensuring only top-level reviews are considered\u001b[39;00m\n\u001b[0;32m     18\u001b[0m reviews \u001b[38;5;241m=\u001b[39m [review \u001b[38;5;28;01mfor\u001b[39;00m review \u001b[38;5;129;01min\u001b[39;00m data\u001b[38;5;241m.\u001b[39mget(\u001b[38;5;124m\"\u001b[39m\u001b[38;5;124mmodel\u001b[39m\u001b[38;5;124m\"\u001b[39m, {})\u001b[38;5;241m.\u001b[39mget(\u001b[38;5;124m\"\u001b[39m\u001b[38;5;124mitems\u001b[39m\u001b[38;5;124m\"\u001b[39m, []) \u001b[38;5;28;01mif\u001b[39;00m \u001b[38;5;124m\"\u001b[39m\u001b[38;5;124mreviewTime\u001b[39m\u001b[38;5;124m\"\u001b[39m \u001b[38;5;129;01min\u001b[39;00m review]\n",
      "File \u001b[1;32m~\\anaconda3\\Lib\\json\\__init__.py:346\u001b[0m, in \u001b[0;36mloads\u001b[1;34m(s, cls, object_hook, parse_float, parse_int, parse_constant, object_pairs_hook, **kw)\u001b[0m\n\u001b[0;32m    341\u001b[0m     s \u001b[38;5;241m=\u001b[39m s\u001b[38;5;241m.\u001b[39mdecode(detect_encoding(s), \u001b[38;5;124m'\u001b[39m\u001b[38;5;124msurrogatepass\u001b[39m\u001b[38;5;124m'\u001b[39m)\n\u001b[0;32m    343\u001b[0m \u001b[38;5;28;01mif\u001b[39;00m (\u001b[38;5;28mcls\u001b[39m \u001b[38;5;129;01mis\u001b[39;00m \u001b[38;5;28;01mNone\u001b[39;00m \u001b[38;5;129;01mand\u001b[39;00m object_hook \u001b[38;5;129;01mis\u001b[39;00m \u001b[38;5;28;01mNone\u001b[39;00m \u001b[38;5;129;01mand\u001b[39;00m\n\u001b[0;32m    344\u001b[0m         parse_int \u001b[38;5;129;01mis\u001b[39;00m \u001b[38;5;28;01mNone\u001b[39;00m \u001b[38;5;129;01mand\u001b[39;00m parse_float \u001b[38;5;129;01mis\u001b[39;00m \u001b[38;5;28;01mNone\u001b[39;00m \u001b[38;5;129;01mand\u001b[39;00m\n\u001b[0;32m    345\u001b[0m         parse_constant \u001b[38;5;129;01mis\u001b[39;00m \u001b[38;5;28;01mNone\u001b[39;00m \u001b[38;5;129;01mand\u001b[39;00m object_pairs_hook \u001b[38;5;129;01mis\u001b[39;00m \u001b[38;5;28;01mNone\u001b[39;00m \u001b[38;5;129;01mand\u001b[39;00m \u001b[38;5;129;01mnot\u001b[39;00m kw):\n\u001b[1;32m--> 346\u001b[0m     \u001b[38;5;28;01mreturn\u001b[39;00m _default_decoder\u001b[38;5;241m.\u001b[39mdecode(s)\n\u001b[0;32m    347\u001b[0m \u001b[38;5;28;01mif\u001b[39;00m \u001b[38;5;28mcls\u001b[39m \u001b[38;5;129;01mis\u001b[39;00m \u001b[38;5;28;01mNone\u001b[39;00m:\n\u001b[0;32m    348\u001b[0m     \u001b[38;5;28mcls\u001b[39m \u001b[38;5;241m=\u001b[39m JSONDecoder\n",
      "File \u001b[1;32m~\\anaconda3\\Lib\\json\\decoder.py:337\u001b[0m, in \u001b[0;36mJSONDecoder.decode\u001b[1;34m(self, s, _w)\u001b[0m\n\u001b[0;32m    332\u001b[0m \u001b[38;5;28;01mdef\u001b[39;00m \u001b[38;5;21mdecode\u001b[39m(\u001b[38;5;28mself\u001b[39m, s, _w\u001b[38;5;241m=\u001b[39mWHITESPACE\u001b[38;5;241m.\u001b[39mmatch):\n\u001b[0;32m    333\u001b[0m \u001b[38;5;250m    \u001b[39m\u001b[38;5;124;03m\"\"\"Return the Python representation of ``s`` (a ``str`` instance\u001b[39;00m\n\u001b[0;32m    334\u001b[0m \u001b[38;5;124;03m    containing a JSON document).\u001b[39;00m\n\u001b[0;32m    335\u001b[0m \n\u001b[0;32m    336\u001b[0m \u001b[38;5;124;03m    \"\"\"\u001b[39;00m\n\u001b[1;32m--> 337\u001b[0m     obj, end \u001b[38;5;241m=\u001b[39m \u001b[38;5;28mself\u001b[39m\u001b[38;5;241m.\u001b[39mraw_decode(s, idx\u001b[38;5;241m=\u001b[39m_w(s, \u001b[38;5;241m0\u001b[39m)\u001b[38;5;241m.\u001b[39mend())\n\u001b[0;32m    338\u001b[0m     end \u001b[38;5;241m=\u001b[39m _w(s, end)\u001b[38;5;241m.\u001b[39mend()\n\u001b[0;32m    339\u001b[0m     \u001b[38;5;28;01mif\u001b[39;00m end \u001b[38;5;241m!=\u001b[39m \u001b[38;5;28mlen\u001b[39m(s):\n",
      "File \u001b[1;32m~\\anaconda3\\Lib\\json\\decoder.py:355\u001b[0m, in \u001b[0;36mJSONDecoder.raw_decode\u001b[1;34m(self, s, idx)\u001b[0m\n\u001b[0;32m    353\u001b[0m     obj, end \u001b[38;5;241m=\u001b[39m \u001b[38;5;28mself\u001b[39m\u001b[38;5;241m.\u001b[39mscan_once(s, idx)\n\u001b[0;32m    354\u001b[0m \u001b[38;5;28;01mexcept\u001b[39;00m \u001b[38;5;167;01mStopIteration\u001b[39;00m \u001b[38;5;28;01mas\u001b[39;00m err:\n\u001b[1;32m--> 355\u001b[0m     \u001b[38;5;28;01mraise\u001b[39;00m JSONDecodeError(\u001b[38;5;124m\"\u001b[39m\u001b[38;5;124mExpecting value\u001b[39m\u001b[38;5;124m\"\u001b[39m, s, err\u001b[38;5;241m.\u001b[39mvalue) \u001b[38;5;28;01mfrom\u001b[39;00m \u001b[38;5;28;01mNone\u001b[39;00m\n\u001b[0;32m    356\u001b[0m \u001b[38;5;28;01mreturn\u001b[39;00m obj, end\n",
      "\u001b[1;31mJSONDecodeError\u001b[0m: Expecting value: line 1 column 1 (char 0)"
     ]
    }
   ],
   "source": [
    "# Open a CSV file to store the reviews\n",
    "with open(\"2025_XIAOMI_Outdoor_Smart_Watch.csv\", \"w\", newline=\"\", encoding=\"utf-8\") as file:\n",
    "    writer = csv.writer(file)\n",
    "    writer.writerow([\"Buyer Name\", \"Review\", \"Date\"])  # Write CSV header\n",
    "\n",
    "    # Loop through the first 5 pages of reviews\n",
    "    for page in range(1, 6):\n",
    "        url = base_url + str(page)  # Construct the URL for the current page\n",
    "        print(f\"Fetching: {url}\")  # Display the URL being fetched\n",
    "        driver.get(url)  # Open the page in the browser\n",
    "        time.sleep(3)  # Wait for the page to load\n",
    "\n",
    "        # Extract the page content (which is in JSON format)\n",
    "        page_source = driver.find_element(By.TAG_NAME, \"body\").text\n",
    "        data = json.loads(page_source)  # Parse the JSON response\n",
    "\n",
    "        # Extract reviews from \"items\", ensuring only top-level reviews are considered\n",
    "        reviews = [review for review in data.get(\"model\", {}).get(\"items\", []) if \"reviewTime\" in review]\n",
    "\n",
    "        # Loop through each review and extract relevant details\n",
    "        for review in reviews:\n",
    "            writer.writerow([\n",
    "                review.get(\"buyerName\", \"N/A\"),  # Extract buyer name\n",
    "                review.get(\"reviewContent\", \"N/A\").replace(\"\\n\", \" \"),  # Extract and clean review content\n",
    "                review.get(\"reviewTime\", \"N/A\")  # Extract review date\n",
    "            ])\n",
    "\n",
    "print(\"Reviews saved to 2025_XIAOMI_Outdoor_Smart_Watch.csv\")  # Confirm successful saving"
   ]
  },
  {
   "cell_type": "code",
   "execution_count": null,
   "id": "683ddd67-3382-4808-9b97-d22984fe57ed",
   "metadata": {},
   "outputs": [],
   "source": []
  }
 ],
 "metadata": {
  "kernelspec": {
   "display_name": "Python 3 (ipykernel)",
   "language": "python",
   "name": "python3"
  },
  "language_info": {
   "codemirror_mode": {
    "name": "ipython",
    "version": 3
   },
   "file_extension": ".py",
   "mimetype": "text/x-python",
   "name": "python",
   "nbconvert_exporter": "python",
   "pygments_lexer": "ipython3",
   "version": "3.11.7"
  }
 },
 "nbformat": 4,
 "nbformat_minor": 5
}
