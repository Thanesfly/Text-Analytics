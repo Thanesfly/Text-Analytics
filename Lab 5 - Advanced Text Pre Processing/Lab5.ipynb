{
 "cells": [
  {
   "cell_type": "code",
   "execution_count": 1,
   "id": "4db2f433-debd-40d1-b9e6-06f7b158d4d9",
   "metadata": {},
   "outputs": [],
   "source": [
    "from collections import Counter #count word occurrences \n",
    "import pandas as pd\n"
   ]
  },
  {
   "cell_type": "code",
   "execution_count": 2,
   "id": "68df604c-ab09-46e6-9d62-2e7882094b4b",
   "metadata": {},
   "outputs": [],
   "source": [
    "file_path = \"Processed_Reviews.csv\" \n",
    "df = pd.read_csv(file_path)"
   ]
  },
  {
   "cell_type": "code",
   "execution_count": 3,
   "id": "9e28387b-0669-416f-8546-d8f712d9d4e4",
   "metadata": {},
   "outputs": [],
   "source": [
    "tokenized_reviews = df['tokenized'].dropna().apply(eval)"
   ]
  },
  {
   "cell_type": "code",
   "execution_count": 4,
   "id": "0a968d6a-3c25-4f68-a5e7-6bb2076a6645",
   "metadata": {},
   "outputs": [],
   "source": [
    "all_words = [word for review in tokenized_reviews for word in review] \n",
    "unique_words = list(set(all_words)) "
   ]
  },
  {
   "cell_type": "code",
   "execution_count": 5,
   "id": "cc630649-7734-4cf2-84e0-03d23ab26c5e",
   "metadata": {},
   "outputs": [],
   "source": [
    "word_freq = Counter(all_words) \n",
    "sorted_word_freq = dict(sorted(word_freq.items(), reverse=True))"
   ]
  },
  {
   "cell_type": "code",
   "execution_count": 6,
   "id": "513a096d-2691-4179-99e8-a49c9bef4df7",
   "metadata": {},
   "outputs": [],
   "source": [
    "document_vectors = [] \n",
    "for review in tokenized_reviews: \n",
    "    document_vector = [1 if word in review else 0 for word in sorted_word_freq.keys()] \n",
    "    document_vectors.append(document_vector)"
   ]
  },
  {
   "cell_type": "code",
   "execution_count": 7,
   "id": "601b7f90-0a3f-412f-8cf6-4cd1adca5bb7",
   "metadata": {},
   "outputs": [],
   "source": [
    "doc_vectors_df = pd.DataFrame(document_vectors, columns=sorted_word_freq.keys()) "
   ]
  },
  {
   "cell_type": "code",
   "execution_count": 11,
   "id": "c1238aaa-2a6f-497f-9b9c-244d34544cb8",
   "metadata": {},
   "outputs": [
    {
     "ename": "NameError",
     "evalue": "name 'oc_vectors_df' is not defined",
     "output_type": "error",
     "traceback": [
      "\u001b[1;31m---------------------------------------------------------------------------\u001b[0m",
      "\u001b[1;31mNameError\u001b[0m                                 Traceback (most recent call last)",
      "Cell \u001b[1;32mIn[11], line 1\u001b[0m\n\u001b[1;32m----> 1\u001b[0m oc_vectors_df\u001b[38;5;241m.\u001b[39mto_csv(\u001b[38;5;124m\"\u001b[39m\u001b[38;5;124mdocument_vectors.csv\u001b[39m\u001b[38;5;124m\"\u001b[39m, index\u001b[38;5;241m=\u001b[39m\u001b[38;5;28;01mFalse\u001b[39;00m)\n",
      "\u001b[1;31mNameError\u001b[0m: name 'oc_vectors_df' is not defined"
     ]
    }
   ],
   "source": [
    "oc_vectors_df.to_csv(\"document_vectors.csv\", index=False) "
   ]
  },
  {
   "cell_type": "code",
   "execution_count": 12,
   "id": "423f8398-895c-4616-9cd8-ebd5a1689c1b",
   "metadata": {},
   "outputs": [
    {
     "name": "stdout",
     "output_type": "stream",
     "text": [
      "Word Frequency Table:\n",
      "           Word  Frequency\n",
      "0           wow          1\n",
      "1         worth          1\n",
      "2          work          2\n",
      "3           use          1\n",
      "4       totally          1\n",
      "5          time          1\n",
      "6         short          1\n",
      "7          shoe          1\n",
      "8       quality          3\n",
      "9      purchase          1\n",
      "10      product          7\n",
      "11        phone          1\n",
      "12    perfectly          2\n",
      "13    packaging          1\n",
      "14           oh          1\n",
      "15          not          1\n",
      "16       nicely          1\n",
      "17         much          1\n",
      "18         love          2\n",
      "19         life          2\n",
      "20       laptop          1\n",
      "21          jog          1\n",
      "22           hz          1\n",
      "23       honest          1\n",
      "24        happy          1\n",
      "25        great          2\n",
      "26         good          1\n",
      "27          god          1\n",
      "28         full          1\n",
      "29          fit          1\n",
      "30         fine          1\n",
      "31         fast          1\n",
      "32    expensive          1\n",
      "33       expect          2\n",
      "34    excellent          1\n",
      "35         ever          1\n",
      "36      display          1\n",
      "37       detail          1\n",
      "38     delivery          1\n",
      "39  comfortable          1\n",
      "40        check          1\n",
      "41       charge          1\n",
      "42          can          1\n",
      "43        cable          1\n",
      "44          buy          1\n",
      "45          bit          1\n",
      "46         best          1\n",
      "47      believe          1\n",
      "48      battery          1\n",
      "49      awesome          2\n",
      "50       arrive          1\n",
      "51      amazing          2\n",
      "52        amaze          1\n"
     ]
    }
   ],
   "source": [
    "word_freq_df = pd.DataFrame(list(sorted_word_freq.items()), columns=[\"Word\",\"Frequency\"]) \n",
    "print(\"Word Frequency Table:\") \n",
    "print(word_freq_df)"
   ]
  },
  {
   "cell_type": "code",
   "execution_count": 13,
   "id": "28fcbd08-5e7f-4b42-8bfb-a772ae57662e",
   "metadata": {},
   "outputs": [],
   "source": [
    "import pandas as pd \n",
    "import math # use for log function \n",
    "from collections import Counter "
   ]
  },
  {
   "cell_type": "code",
   "execution_count": 14,
   "id": "db685393-f955-49a0-89b4-8d985d8271d1",
   "metadata": {},
   "outputs": [],
   "source": [
    "file_path = \"Processed_Reviews.csv\" \n",
    "df = pd.read_csv(file_path) "
   ]
  },
  {
   "cell_type": "code",
   "execution_count": 15,
   "id": "2fac4d5c-8449-46e6-811f-8e6906a097a7",
   "metadata": {},
   "outputs": [],
   "source": [
    "tokenized_reviews = df['tokenized'].dropna().apply(eval) "
   ]
  },
  {
   "cell_type": "code",
   "execution_count": 16,
   "id": "3d211808-0d5b-4137-a196-a2033180fd2a",
   "metadata": {},
   "outputs": [],
   "source": [
    "def compute_tf(document): \n",
    "    word_count = Counter(document) \n",
    "    tf = {word: count / len(document) for word, count in word_count.items()} \n",
    "    return tf "
   ]
  },
  {
   "cell_type": "code",
   "execution_count": 17,
   "id": "6783aa50-acab-4926-9530-d44e0f9fd223",
   "metadata": {},
   "outputs": [],
   "source": [
    "def compute_idf(documents): \n",
    "    N = len(documents)  # Total number of documents \n",
    "    idf = {} \n",
    "    all_words = set(word for doc in documents for word in doc)  # Unique words \n",
    "    for word in all_words: \n",
    "        count = sum(1 for doc in documents if word in doc) \n",
    "        idf[word] = math.log(N / count) \n",
    "    return idf "
   ]
  },
  {
   "cell_type": "code",
   "execution_count": 18,
   "id": "2e78dd4d-b09f-409a-a235-9bd495982a4e",
   "metadata": {},
   "outputs": [],
   "source": [
    "def compute_tfidf(document, idf): \n",
    "    tfidf = {} \n",
    "    tf = compute_tf(document)  # Get TF values for the document \n",
    "    for word, tf_value in tf.items(): \n",
    "        tfidf[word] = tf_value * idf[word]  # Multiply TF and IDF \n",
    "    return tfidf"
   ]
  },
  {
   "cell_type": "code",
   "execution_count": 19,
   "id": "0abbe06d-73f0-45c9-a632-5450934296c1",
   "metadata": {},
   "outputs": [],
   "source": [
    "documents = tokenized_reviews.tolist() "
   ]
  },
  {
   "cell_type": "code",
   "execution_count": 20,
   "id": "a44856cb-182d-4682-acfe-4fa3f0b64e59",
   "metadata": {},
   "outputs": [],
   "source": [
    "tf_data = [compute_tf(doc) for doc in documents] \n",
    "tf_df = pd.DataFrame(tf_data).fillna(0) \n",
    "tf_df.to_csv(\"tf_scores.csv\", index=False) "
   ]
  },
  {
   "cell_type": "code",
   "execution_count": 21,
   "id": "3df62096-c01a-41fe-8a69-8f0830fad705",
   "metadata": {},
   "outputs": [],
   "source": [
    "idf = compute_idf(documents) \n",
    "idf_df = pd.DataFrame([idf]).fillna(0) \n",
    "idf_df.to_csv(\"idf_scores.csv\", index=False) "
   ]
  },
  {
   "cell_type": "code",
   "execution_count": 22,
   "id": "6b0c1d26-de6f-41a8-8c6a-31de613f931d",
   "metadata": {},
   "outputs": [],
   "source": [
    "tfidf_data = [compute_tfidf(doc, idf) for doc in documents] \n",
    "tfidf_df = pd.DataFrame(tfidf_data).fillna(0) \n",
    "tfidf_df.to_csv(\"tfidf_scores.csv\", index=False) "
   ]
  },
  {
   "cell_type": "code",
   "execution_count": null,
   "id": "0e32a0f4-e1f1-44a6-ba08-56731928d958",
   "metadata": {},
   "outputs": [],
   "source": []
  }
 ],
 "metadata": {
  "kernelspec": {
   "display_name": "Python 3 (ipykernel)",
   "language": "python",
   "name": "python3"
  },
  "language_info": {
   "codemirror_mode": {
    "name": "ipython",
    "version": 3
   },
   "file_extension": ".py",
   "mimetype": "text/x-python",
   "name": "python",
   "nbconvert_exporter": "python",
   "pygments_lexer": "ipython3",
   "version": "3.11.7"
  }
 },
 "nbformat": 4,
 "nbformat_minor": 5
}
